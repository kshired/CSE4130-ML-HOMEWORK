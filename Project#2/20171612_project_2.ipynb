{
  "cells": [
    {
      "cell_type": "markdown",
      "metadata": {
        "id": "uFB-lXiV20Zg"
      },
      "source": [
        "# 기초머신러닝 Project2_KNN"
      ],
      "id": "uFB-lXiV20Zg"
    },
    {
      "cell_type": "markdown",
      "metadata": {
        "id": "Ov81r6qp20Zk"
      },
      "source": [
        "아래 이름, 학번을 작성하세요."
      ],
      "id": "Ov81r6qp20Zk"
    },
    {
      "cell_type": "code",
      "execution_count": 1,
      "metadata": {
        "id": "JWUeh4ee20Zl"
      },
      "outputs": [],
      "source": [
        "project2_student_id = '20171612'\n",
        "project2_student_name = '김성일'"
      ],
      "id": "JWUeh4ee20Zl"
    },
    {
      "cell_type": "markdown",
      "metadata": {
        "id": "p5rgm_BD20Zm"
      },
      "source": [
        "#  \n",
        "#  "
      ],
      "id": "p5rgm_BD20Zm"
    },
    {
      "cell_type": "markdown",
      "metadata": {
        "id": "cI_SHdiH20Zn"
      },
      "source": [
        "# Project2\n",
        "### -\t주어진 1NN 코드를 바탕으로 KNNClassifier가 되도록 KNNClassifier() 클래스를 작성 (OneNeighborClassifier()의 closest 함수를 수정하는 것을 포함한 여러 가지 방법 사용 가능)\n",
        "### -\t동일한 학습/테스트 데이터에 대하여 1NN, 3NN, 5NN, 7NN의 성능을 출력"
      ],
      "id": "cI_SHdiH20Zn"
    },
    {
      "cell_type": "markdown",
      "metadata": {
        "id": "I17RcoEB20Zn"
      },
      "source": [
        "### Example) 1NN "
      ],
      "id": "I17RcoEB20Zn"
    },
    {
      "cell_type": "code",
      "execution_count": 2,
      "metadata": {
        "id": "2RTRn_TV20Zo"
      },
      "outputs": [],
      "source": [
        "from sklearn import datasets\n",
        "iris = datasets.load_iris()"
      ],
      "id": "2RTRn_TV20Zo"
    },
    {
      "cell_type": "code",
      "execution_count": 3,
      "metadata": {
        "id": "4JQvQeZm20Zp"
      },
      "outputs": [],
      "source": [
        "X = iris.data\n",
        "# Iris.data contains the features or independent variables.\n",
        "y = iris.target\n",
        "# Iris.target contains the labels or the dependent variables."
      ],
      "id": "4JQvQeZm20Zp"
    },
    {
      "cell_type": "code",
      "execution_count": 4,
      "metadata": {
        "id": "2p7T9-rc20Zp"
      },
      "outputs": [],
      "source": [
        "from sklearn.model_selection import train_test_split"
      ],
      "id": "2p7T9-rc20Zp"
    },
    {
      "cell_type": "code",
      "execution_count": 5,
      "metadata": {
        "id": "PC83raDv20Zq"
      },
      "outputs": [],
      "source": [
        "X_train, X_test, y_train, y_test = train_test_split(X, y, test_size = 0.50)"
      ],
      "id": "PC83raDv20Zq"
    },
    {
      "cell_type": "code",
      "execution_count": 6,
      "metadata": {
        "id": "in-Pug-H20Zq"
      },
      "outputs": [],
      "source": [
        "from scipy.spatial import distance  # Built in function called distance.\n",
        "\n",
        "                                    #Defining the n dimensional distance as euc.\n",
        "def euc(a,b):                       # Lists of numeric features. \n",
        "    return distance.euclidean(a,b)  # Measure and return the distance between 2 points \n",
        "                                    # i.e. the training point and a test point."
      ],
      "id": "in-Pug-H20Zq"
    },
    {
      "cell_type": "code",
      "execution_count": 7,
      "metadata": {
        "id": "X3glh0sP20Zr"
      },
      "outputs": [],
      "source": [
        "class OneNeighborClassifier():                # This 'class' has 2 Methods : Fit and Predict\n",
        "    \n",
        "    #Each step is followed by a comment which explains how the classifier is working \n",
        "    \n",
        "    def fit(self, X_train, y_train):          # Takes features and labels as input\n",
        "        self.X_train = X_train                # Storing the X_train in self.X_train\n",
        "        self.y_train = y_train                # Storing the y_train in self.y_train\n",
        "                                              # This is like the ML classifier will memorize the values \n",
        "        \n",
        "    def predict (self, X_test):               # Receives features from the testing data and returns predictions\n",
        "        predictions = []                      # List of predictions, since X_test is a 2D array or a list of lists.\n",
        "        for row in X_test:                    # Each row contains the features for one testing example\n",
        "            label = self.closest(row)         # We are calling the function that we are creating in the next block\n",
        "                                              # to find the closest training point from the test point\n",
        "            predictions.append(label)         # Add the labels to the predictions list to fill it.\n",
        "        return predictions                    # Return predictions as the output\n",
        "    \n",
        "    def closest(self, row):                   # Create the function closest such that -->\n",
        "        best_dist = euc(row, self.X_train[0]) # Measure the shortest distance a test point and the first train point\n",
        "        best_index = 0                        # Keep track of the index of the train point that is closest\n",
        "        for i in range (1, len(self.X_train)):# Iterate over the different training points\n",
        "            dist = euc(row, self.X_train[i])\n",
        "            if dist < best_dist:              # The moment we find a closer one, we update our variables.\n",
        "                best_dist = dist              # If dist is shorter than best_dist, then its the new best_dist\n",
        "                best_index = i                # Using the index of best_dist to return label of the closest training pt.\n",
        "        return self.y_train[best_index]       # Return that label"
      ],
      "id": "X3glh0sP20Zr"
    },
    {
      "cell_type": "code",
      "execution_count": 8,
      "metadata": {
        "id": "2oQd7H3_20Zs"
      },
      "outputs": [],
      "source": [
        "my_classifier = OneNeighborClassifier()\n",
        "my_classifier.fit(X_train, y_train)"
      ],
      "id": "2oQd7H3_20Zs"
    },
    {
      "cell_type": "code",
      "execution_count": 9,
      "metadata": {
        "id": "of_IH1Pc20Zs"
      },
      "outputs": [],
      "source": [
        "pred = my_classifier.predict(X_test)"
      ],
      "id": "of_IH1Pc20Zs"
    },
    {
      "cell_type": "code",
      "execution_count": 10,
      "metadata": {
        "colab": {
          "base_uri": "https://localhost:8080/"
        },
        "id": "cDja7n2B20Zt",
        "outputId": "00a9b2ca-9783-4430-be18-24cd33740daa"
      },
      "outputs": [
        {
          "output_type": "stream",
          "name": "stdout",
          "text": [
            "Accuracy : 94.667%\n"
          ]
        }
      ],
      "source": [
        "from sklearn.metrics import accuracy_score\n",
        "#print ('Accuracy of the classifier is', accuracy_score(y_test, pred)*100, '3.2%')\n",
        "acc = accuracy_score(y_test, pred)*100\n",
        "print (f'Accuracy : {acc:.3f}%')"
      ],
      "id": "cDja7n2B20Zt"
    },
    {
      "cell_type": "markdown",
      "metadata": {
        "id": "L6S3uU_N20Zu"
      },
      "source": [
        "#  \n",
        "#  "
      ],
      "id": "L6S3uU_N20Zu"
    },
    {
      "cell_type": "markdown",
      "metadata": {
        "id": "czNfODsE20Zv"
      },
      "source": [
        "## Practice1"
      ],
      "id": "czNfODsE20Zv"
    },
    {
      "cell_type": "markdown",
      "metadata": {
        "id": "WIK62CIt20Zv"
      },
      "source": [
        "필요에 따라, 작성한 KNNClassifier 클래스에 맞추어 성능 확인을 위한 3개의 셀 수정 가능"
      ],
      "id": "WIK62CIt20Zv"
    },
    {
      "cell_type": "code",
      "execution_count": 11,
      "metadata": {
        "id": "bsrWhUwi20Zv"
      },
      "outputs": [],
      "source": [
        "from collections import defaultdict\n",
        "\n",
        "class KNNClassifier():\n",
        "    def __init__(self,n=1):\n",
        "        self.n = n\n",
        "\n",
        "    def fit(self, X_train, y_train):\n",
        "        self.x_train = X_train\n",
        "        self.y_train = y_train\n",
        "    \n",
        "    def predict(self,X_test):\n",
        "        predictions = []                      \n",
        "        for row in X_test:                    \n",
        "            label = self.closest(row)\n",
        "            predictions.append(label)\n",
        "        return predictions \n",
        "\n",
        "    def closest(self, row):\n",
        "        dist = [(euc(row,self.x_train[i]),i) for i in range(len(self.x_train))]\n",
        "        dist.sort(key=lambda x:x[0])\n",
        "        dist = dist[:self.n]\n",
        "        \n",
        "        cnt = defaultdict(int)\n",
        "\n",
        "        for dis, value in dist:\n",
        "            cnt[value] += 1\n",
        "\n",
        "        res = sorted(cnt.items(),key=lambda x:x[1], reverse=True)\n",
        "\n",
        "        return self.y_train[res[0][0]]"
      ],
      "id": "bsrWhUwi20Zv"
    },
    {
      "cell_type": "code",
      "execution_count": 12,
      "metadata": {
        "id": "s3gfD3xu20Zv"
      },
      "outputs": [],
      "source": [
        "knn_classifier1 = KNNClassifier()\n",
        "knn_classifier1.fit(X_train, y_train)"
      ],
      "id": "s3gfD3xu20Zv"
    },
    {
      "cell_type": "code",
      "execution_count": 13,
      "metadata": {
        "id": "LQNTNgHT20Zv"
      },
      "outputs": [],
      "source": [
        "knn_pred1 = knn_classifier1.predict(X_test)"
      ],
      "id": "LQNTNgHT20Zv"
    },
    {
      "cell_type": "code",
      "execution_count": 14,
      "metadata": {
        "colab": {
          "base_uri": "https://localhost:8080/"
        },
        "id": "TYCURCfS20Zw",
        "outputId": "5873e46b-7ff3-4e5f-97be-cc420da73b62"
      },
      "outputs": [
        {
          "output_type": "stream",
          "name": "stdout",
          "text": [
            "Accuracy : 94.667%\n"
          ]
        }
      ],
      "source": [
        "knn_acc1 = accuracy_score(y_test, knn_pred1)*100\n",
        "print (f'Accuracy : {knn_acc1:.3f}%')"
      ],
      "id": "TYCURCfS20Zw"
    },
    {
      "cell_type": "markdown",
      "metadata": {
        "id": "qdzONRCA20Zw"
      },
      "source": [
        "##    "
      ],
      "id": "qdzONRCA20Zw"
    },
    {
      "cell_type": "code",
      "execution_count": 15,
      "metadata": {
        "id": "2s2-NADx20Zw"
      },
      "outputs": [],
      "source": [
        "knn_classifier3 = KNNClassifier(3)\n",
        "knn_classifier3.fit(X_train, y_train)"
      ],
      "id": "2s2-NADx20Zw"
    },
    {
      "cell_type": "code",
      "execution_count": 16,
      "metadata": {
        "id": "D-vclSLO20Zw"
      },
      "outputs": [],
      "source": [
        "knn_pred3 = knn_classifier3.predict(X_test)"
      ],
      "id": "D-vclSLO20Zw"
    },
    {
      "cell_type": "code",
      "execution_count": 17,
      "metadata": {
        "colab": {
          "base_uri": "https://localhost:8080/"
        },
        "id": "zW0SXouK20Zw",
        "outputId": "e762337f-6d6c-4eb8-f26c-0ea990b34f6b"
      },
      "outputs": [
        {
          "output_type": "stream",
          "name": "stdout",
          "text": [
            "Accuracy : 94.667%\n"
          ]
        }
      ],
      "source": [
        "knn_acc3 = accuracy_score(y_test, knn_pred3)*100\n",
        "print (f'Accuracy : {knn_acc3:.3f}%')"
      ],
      "id": "zW0SXouK20Zw"
    },
    {
      "cell_type": "markdown",
      "metadata": {
        "id": "cNrlhgWW20Zw"
      },
      "source": [
        "##  "
      ],
      "id": "cNrlhgWW20Zw"
    },
    {
      "cell_type": "markdown",
      "source": [
        ""
      ],
      "metadata": {
        "id": "7SCCyNQ-5CFj"
      },
      "id": "7SCCyNQ-5CFj"
    },
    {
      "cell_type": "code",
      "execution_count": 18,
      "metadata": {
        "id": "h_IdQNwX20Zx"
      },
      "outputs": [],
      "source": [
        "knn_classifier5 = KNNClassifier(5)\n",
        "knn_classifier5.fit(X_train, y_train)"
      ],
      "id": "h_IdQNwX20Zx"
    },
    {
      "cell_type": "code",
      "execution_count": 19,
      "metadata": {
        "id": "PU_OXeb520Zx"
      },
      "outputs": [],
      "source": [
        "knn_pred5 = knn_classifier5.predict(X_test)"
      ],
      "id": "PU_OXeb520Zx"
    },
    {
      "cell_type": "code",
      "execution_count": 20,
      "metadata": {
        "colab": {
          "base_uri": "https://localhost:8080/"
        },
        "id": "gzxll49R20Zx",
        "outputId": "f8517d32-7701-4690-affc-050d4091f832"
      },
      "outputs": [
        {
          "output_type": "stream",
          "name": "stdout",
          "text": [
            "Accuracy : 94.667%\n"
          ]
        }
      ],
      "source": [
        "knn_acc5 = accuracy_score(y_test, knn_pred5)*100\n",
        "print (f'Accuracy : {knn_acc5:.3f}%')"
      ],
      "id": "gzxll49R20Zx"
    },
    {
      "cell_type": "markdown",
      "metadata": {
        "id": "muu3JM5-20Zx"
      },
      "source": [
        "##  "
      ],
      "id": "muu3JM5-20Zx"
    },
    {
      "cell_type": "code",
      "execution_count": 21,
      "metadata": {
        "id": "YvsiAnR020Zx"
      },
      "outputs": [],
      "source": [
        "knn_classifier7 = KNNClassifier(7)\n",
        "knn_classifier7.fit(X_train, y_train)"
      ],
      "id": "YvsiAnR020Zx"
    },
    {
      "cell_type": "code",
      "execution_count": 22,
      "metadata": {
        "id": "LrGQ9wXR20Zx"
      },
      "outputs": [],
      "source": [
        "knn_pred7 = knn_classifier7.predict(X_test)"
      ],
      "id": "LrGQ9wXR20Zx"
    },
    {
      "cell_type": "code",
      "execution_count": 23,
      "metadata": {
        "colab": {
          "base_uri": "https://localhost:8080/"
        },
        "id": "7k7hv22b20Zx",
        "outputId": "68a42567-4999-46fc-e801-a596a0c4909c"
      },
      "outputs": [
        {
          "output_type": "stream",
          "name": "stdout",
          "text": [
            "Accuracy : 94.667%\n"
          ]
        }
      ],
      "source": [
        "knn_acc7 = accuracy_score(y_test, knn_pred7)*100\n",
        "print (f'Accuracy : {knn_acc7:.3f}%')"
      ],
      "id": "7k7hv22b20Zx"
    },
    {
      "cell_type": "markdown",
      "metadata": {
        "id": "HFkQ46fS20Zx"
      },
      "source": [
        "#   \n",
        "#  "
      ],
      "id": "HFkQ46fS20Zx"
    },
    {
      "cell_type": "markdown",
      "metadata": {
        "id": "26Ia7nW920Zx"
      },
      "source": [
        "# 결과 확인용\n",
        "수정금지 - 조교"
      ],
      "id": "26Ia7nW920Zx"
    },
    {
      "cell_type": "code",
      "execution_count": 24,
      "metadata": {
        "colab": {
          "base_uri": "https://localhost:8080/"
        },
        "id": "tBdTLZRB20Zy",
        "outputId": "36de2600-08bd-4795-87e9-7b60f70271d6"
      },
      "outputs": [
        {
          "output_type": "stream",
          "name": "stdout",
          "text": [
            "학번: 20171612\n",
            "이름: 김성일\n"
          ]
        }
      ],
      "source": [
        "print(f'학번: {project2_student_id}')\n",
        "print(f'이름: {project2_student_name}')"
      ],
      "id": "tBdTLZRB20Zy"
    },
    {
      "cell_type": "code",
      "execution_count": 25,
      "metadata": {
        "colab": {
          "base_uri": "https://localhost:8080/"
        },
        "id": "nETlD5Mx20Zy",
        "outputId": "e0a146c3-4e27-4d85-e8aa-a66dc506b5e9"
      },
      "outputs": [
        {
          "output_type": "stream",
          "name": "stdout",
          "text": [
            "Accuracy : 94.667%\n"
          ]
        }
      ],
      "source": [
        "knn_acc1 = accuracy_score(y_test, knn_pred1)*100\n",
        "print (f'Accuracy : {knn_acc1:.3f}%')"
      ],
      "id": "nETlD5Mx20Zy"
    },
    {
      "cell_type": "code",
      "execution_count": 26,
      "metadata": {
        "colab": {
          "base_uri": "https://localhost:8080/"
        },
        "id": "0AWv8Db620Zy",
        "outputId": "b091559f-e1c2-4641-fc50-542ab93c13a1"
      },
      "outputs": [
        {
          "output_type": "stream",
          "name": "stdout",
          "text": [
            "Accuracy : 94.667%\n"
          ]
        }
      ],
      "source": [
        "knn_acc3 = accuracy_score(y_test, knn_pred3)*100\n",
        "print (f'Accuracy : {knn_acc3:.3f}%')"
      ],
      "id": "0AWv8Db620Zy"
    },
    {
      "cell_type": "code",
      "execution_count": 27,
      "metadata": {
        "colab": {
          "base_uri": "https://localhost:8080/"
        },
        "id": "xSYELH6S20Zy",
        "outputId": "443f064a-a713-4fa7-8791-51d419c6c65a"
      },
      "outputs": [
        {
          "output_type": "stream",
          "name": "stdout",
          "text": [
            "Accuracy : 94.667%\n"
          ]
        }
      ],
      "source": [
        "knn_acc5 = accuracy_score(y_test, knn_pred5)*100\n",
        "print (f'Accuracy : {knn_acc5:.3f}%')"
      ],
      "id": "xSYELH6S20Zy"
    },
    {
      "cell_type": "code",
      "execution_count": 28,
      "metadata": {
        "colab": {
          "base_uri": "https://localhost:8080/"
        },
        "id": "vfJIvNph20Zy",
        "outputId": "459351e7-3b29-4b05-e478-1559683af8ec"
      },
      "outputs": [
        {
          "output_type": "stream",
          "name": "stdout",
          "text": [
            "Accuracy : 94.667%\n"
          ]
        }
      ],
      "source": [
        "knn_acc7 = accuracy_score(y_test, knn_pred7)*100\n",
        "print (f'Accuracy : {knn_acc7:.3f}%')"
      ],
      "id": "vfJIvNph20Zy"
    }
  ],
  "metadata": {
    "kernelspec": {
      "display_name": "Python 3",
      "language": "python",
      "name": "python3"
    },
    "language_info": {
      "codemirror_mode": {
        "name": "ipython",
        "version": 3
      },
      "file_extension": ".py",
      "mimetype": "text/x-python",
      "name": "python",
      "nbconvert_exporter": "python",
      "pygments_lexer": "ipython3",
      "version": "3.8.5"
    },
    "colab": {
      "name": "ML_Project2.ipynb",
      "provenance": [],
      "collapsed_sections": []
    }
  },
  "nbformat": 4,
  "nbformat_minor": 5
}